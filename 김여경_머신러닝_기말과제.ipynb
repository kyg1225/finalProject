{
  "nbformat": 4,
  "nbformat_minor": 0,
  "metadata": {
    "colab": {
      "name": "김여경_머신러닝_기말과제.ipynb",
      "provenance": [],
      "collapsed_sections": [],
      "include_colab_link": true
    },
    "kernelspec": {
      "name": "python3",
      "display_name": "Python 3"
    },
    "accelerator": "GPU"
  },
  "cells": [
    {
      "cell_type": "markdown",
      "metadata": {
        "id": "view-in-github",
        "colab_type": "text"
      },
      "source": [
        "<a href=\"https://colab.research.google.com/github/kyg1225/finalProject/blob/master/%EA%B9%80%EC%97%AC%EA%B2%BD_%EB%A8%B8%EC%8B%A0%EB%9F%AC%EB%8B%9D_%EA%B8%B0%EB%A7%90%EA%B3%BC%EC%A0%9C.ipynb\" target=\"_parent\"><img src=\"https://colab.research.google.com/assets/colab-badge.svg\" alt=\"Open In Colab\"/></a>"
      ]
    },
    {
      "cell_type": "markdown",
      "metadata": {
        "id": "umagPPQneU6e"
      },
      "source": [
        "# 2020학년도 2학기 머신러닝 기말과제"
      ]
    },
    {
      "cell_type": "markdown",
      "metadata": {
        "id": "PFg2uwwrerNZ"
      },
      "source": [
        "\r\n",
        "\r\n",
        "* 목적: 텍스트의 긍정/부정 예측을 위한 머신러닝 모델 학습하기\r\n",
        "* 미션: 아래 샘플 코드를 수정하여 평가데이터에 대한 예측 성능을 최대로 하시오.\r\n",
        "\r\n"
      ]
    },
    {
      "cell_type": "code",
      "metadata": {
        "colab": {
          "base_uri": "https://localhost:8080/"
        },
        "id": "lRgVu74mmTjW",
        "outputId": "74a115dd-0b86-40f9-ab77-bc76a377bb79"
      },
      "source": [
        "!pip install konlpy"
      ],
      "execution_count": 1,
      "outputs": [
        {
          "output_type": "stream",
          "text": [
            "Requirement already satisfied: konlpy in /usr/local/lib/python3.6/dist-packages (0.5.2)\n",
            "Requirement already satisfied: colorama in /usr/local/lib/python3.6/dist-packages (from konlpy) (0.4.4)\n",
            "Requirement already satisfied: JPype1>=0.7.0 in /usr/local/lib/python3.6/dist-packages (from konlpy) (1.2.0)\n",
            "Requirement already satisfied: beautifulsoup4==4.6.0 in /usr/local/lib/python3.6/dist-packages (from konlpy) (4.6.0)\n",
            "Requirement already satisfied: numpy>=1.6 in /usr/local/lib/python3.6/dist-packages (from konlpy) (1.19.4)\n",
            "Requirement already satisfied: lxml>=4.1.0 in /usr/local/lib/python3.6/dist-packages (from konlpy) (4.2.6)\n",
            "Requirement already satisfied: tweepy>=3.7.0 in /usr/local/lib/python3.6/dist-packages (from konlpy) (3.9.0)\n",
            "Requirement already satisfied: typing-extensions; python_version < \"3.8\" in /usr/local/lib/python3.6/dist-packages (from JPype1>=0.7.0->konlpy) (3.7.4.3)\n",
            "Requirement already satisfied: requests[socks]>=2.11.1 in /usr/local/lib/python3.6/dist-packages (from tweepy>=3.7.0->konlpy) (2.23.0)\n",
            "Requirement already satisfied: six>=1.10.0 in /usr/local/lib/python3.6/dist-packages (from tweepy>=3.7.0->konlpy) (1.15.0)\n",
            "Requirement already satisfied: requests-oauthlib>=0.7.0 in /usr/local/lib/python3.6/dist-packages (from tweepy>=3.7.0->konlpy) (1.3.0)\n",
            "Requirement already satisfied: chardet<4,>=3.0.2 in /usr/local/lib/python3.6/dist-packages (from requests[socks]>=2.11.1->tweepy>=3.7.0->konlpy) (3.0.4)\n",
            "Requirement already satisfied: idna<3,>=2.5 in /usr/local/lib/python3.6/dist-packages (from requests[socks]>=2.11.1->tweepy>=3.7.0->konlpy) (2.10)\n",
            "Requirement already satisfied: urllib3!=1.25.0,!=1.25.1,<1.26,>=1.21.1 in /usr/local/lib/python3.6/dist-packages (from requests[socks]>=2.11.1->tweepy>=3.7.0->konlpy) (1.24.3)\n",
            "Requirement already satisfied: certifi>=2017.4.17 in /usr/local/lib/python3.6/dist-packages (from requests[socks]>=2.11.1->tweepy>=3.7.0->konlpy) (2020.12.5)\n",
            "Requirement already satisfied: PySocks!=1.5.7,>=1.5.6; extra == \"socks\" in /usr/local/lib/python3.6/dist-packages (from requests[socks]>=2.11.1->tweepy>=3.7.0->konlpy) (1.7.1)\n",
            "Requirement already satisfied: oauthlib>=3.0.0 in /usr/local/lib/python3.6/dist-packages (from requests-oauthlib>=0.7.0->tweepy>=3.7.0->konlpy) (3.1.0)\n"
          ],
          "name": "stdout"
        }
      ]
    },
    {
      "cell_type": "code",
      "metadata": {
        "id": "5WOBx0ZjZ6Na"
      },
      "source": [
        "######### 수정 금지 ###########\r\n",
        "import pandas as pd\r\n",
        "import numpy as np\r\n",
        "%matplotlib inline\r\n",
        "import matplotlib.pyplot as plt\r\n",
        "import re\r\n",
        "import urllib.request\r\n",
        "from konlpy.tag import Okt\r\n",
        "from tensorflow.keras.preprocessing.text import Tokenizer\r\n",
        "from tensorflow.keras.preprocessing.sequence import pad_sequences\r\n",
        "######### 수정 금지 ###########"
      ],
      "execution_count": 2,
      "outputs": []
    },
    {
      "cell_type": "markdown",
      "metadata": {
        "id": "b2XGwl7If2lL"
      },
      "source": [
        "# 데이터 로드하기\r\n",
        "\r\n",
        "\r\n",
        "1.  학습데이터에 해당하는 ratings_train.txt와 평가데이터에 해당하는 ratings_test.txt를 다운로드합니다.\r\n",
        "2.   Pandas를 이용하여 학습데이터는 train_data에 평가데이터는 test_data에 저장합니다.\r\n",
        "\r\n"
      ]
    },
    {
      "cell_type": "code",
      "metadata": {
        "colab": {
          "base_uri": "https://localhost:8080/"
        },
        "id": "Xfq2jf-NZ-qs",
        "outputId": "ae196bb8-f05c-414f-d8b4-4acc39cc9e90"
      },
      "source": [
        "######### 수정 금지 ###########\r\n",
        "urllib.request.urlretrieve(\"https://raw.githubusercontent.com/e9t/nsmc/master/ratings_train.txt\", filename=\"ratings_train.txt\")\r\n",
        "urllib.request.urlretrieve(\"https://raw.githubusercontent.com/e9t/nsmc/master/ratings_test.txt\", filename=\"ratings_test.txt\")\r\n",
        "\r\n",
        "train_data = pd.read_table('ratings_train.txt')\r\n",
        "test_data = pd.read_table('ratings_test.txt')\r\n",
        "\r\n",
        "print('학습용 리뷰 개수 :',len(train_data)) # 훈련용 리뷰 개수 출력\r\n",
        "print('평가용 리뷰 개수 :',len(test_data)) # 훈련용 리뷰 개수 출력\r\n",
        "######### 수정 금지 ###########"
      ],
      "execution_count": 3,
      "outputs": [
        {
          "output_type": "stream",
          "text": [
            "학습용 리뷰 개수 : 150000\n",
            "평가용 리뷰 개수 : 50000\n"
          ],
          "name": "stdout"
        }
      ]
    },
    {
      "cell_type": "markdown",
      "metadata": {
        "id": "PXAO38ndgWRn"
      },
      "source": [
        "# 데이터 확인\r\n",
        "\r\n",
        "1. 해당 데이터는 id, document, label 총 3개의 열로 구성되어져 있습니다.\r\n",
        "2. 리뷰 내용을 담고있는 document와 해당 리뷰가 긍정(1), 부정(0)인지를 나타내는 label 두 개의 열을 이용합니다."
      ]
    },
    {
      "cell_type": "code",
      "metadata": {
        "colab": {
          "base_uri": "https://localhost:8080/",
          "height": 212
        },
        "id": "VaO8RzcugStm",
        "outputId": "ab7141bb-8c77-4305-875a-aa1965a35841"
      },
      "source": [
        "train_data[:5] # 상위 5개 출력"
      ],
      "execution_count": 4,
      "outputs": [
        {
          "output_type": "execute_result",
          "data": {
            "text/html": [
              "<div>\n",
              "<style scoped>\n",
              "    .dataframe tbody tr th:only-of-type {\n",
              "        vertical-align: middle;\n",
              "    }\n",
              "\n",
              "    .dataframe tbody tr th {\n",
              "        vertical-align: top;\n",
              "    }\n",
              "\n",
              "    .dataframe thead th {\n",
              "        text-align: right;\n",
              "    }\n",
              "</style>\n",
              "<table border=\"1\" class=\"dataframe\">\n",
              "  <thead>\n",
              "    <tr style=\"text-align: right;\">\n",
              "      <th></th>\n",
              "      <th>id</th>\n",
              "      <th>document</th>\n",
              "      <th>label</th>\n",
              "    </tr>\n",
              "  </thead>\n",
              "  <tbody>\n",
              "    <tr>\n",
              "      <th>0</th>\n",
              "      <td>9976970</td>\n",
              "      <td>아 더빙.. 진짜 짜증나네요 목소리</td>\n",
              "      <td>0</td>\n",
              "    </tr>\n",
              "    <tr>\n",
              "      <th>1</th>\n",
              "      <td>3819312</td>\n",
              "      <td>흠...포스터보고 초딩영화줄....오버연기조차 가볍지 않구나</td>\n",
              "      <td>1</td>\n",
              "    </tr>\n",
              "    <tr>\n",
              "      <th>2</th>\n",
              "      <td>10265843</td>\n",
              "      <td>너무재밓었다그래서보는것을추천한다</td>\n",
              "      <td>0</td>\n",
              "    </tr>\n",
              "    <tr>\n",
              "      <th>3</th>\n",
              "      <td>9045019</td>\n",
              "      <td>교도소 이야기구먼 ..솔직히 재미는 없다..평점 조정</td>\n",
              "      <td>0</td>\n",
              "    </tr>\n",
              "    <tr>\n",
              "      <th>4</th>\n",
              "      <td>6483659</td>\n",
              "      <td>사이몬페그의 익살스런 연기가 돋보였던 영화!스파이더맨에서 늙어보이기만 했던 커스틴 ...</td>\n",
              "      <td>1</td>\n",
              "    </tr>\n",
              "  </tbody>\n",
              "</table>\n",
              "</div>"
            ],
            "text/plain": [
              "         id                                           document  label\n",
              "0   9976970                                아 더빙.. 진짜 짜증나네요 목소리      0\n",
              "1   3819312                  흠...포스터보고 초딩영화줄....오버연기조차 가볍지 않구나      1\n",
              "2  10265843                                  너무재밓었다그래서보는것을추천한다      0\n",
              "3   9045019                      교도소 이야기구먼 ..솔직히 재미는 없다..평점 조정      0\n",
              "4   6483659  사이몬페그의 익살스런 연기가 돋보였던 영화!스파이더맨에서 늙어보이기만 했던 커스틴 ...      1"
            ]
          },
          "metadata": {
            "tags": []
          },
          "execution_count": 4
        }
      ]
    },
    {
      "cell_type": "markdown",
      "metadata": {
        "id": "m7zp_2YQgpGW"
      },
      "source": [
        "# 데이터 정제하기\r\n",
        "\r\n",
        "1. 온점(.)이나 ?와 같은 각종 특수문자를 정규표현식을 사용하여 제거합니다.\r\n",
        "2. 특수문자로만 구성된 데이터의 경우 빈 값만 남으므로 해당 샘플은 제거합니다."
      ]
    },
    {
      "cell_type": "code",
      "metadata": {
        "colab": {
          "base_uri": "https://localhost:8080/"
        },
        "id": "wS9r14wLaMOi",
        "outputId": "bbaeb8de-cba1-4547-972d-a628bfa52d2c"
      },
      "source": [
        "######### 수정 금지 ###########\r\n",
        "train_data.drop_duplicates(subset = ['document'], inplace=True) # document 열에서 중복인 내용이 있다면 중복 제거\r\n",
        "train_data['document'] = train_data['document'].str.replace(\"[^ㄱ-ㅎㅏ-ㅣ가-힣 ]\",\"\") # 정규 표현식 수행\r\n",
        "train_data['document'].replace('', np.nan, inplace=True) # 공백은 Null 값으로 변경\r\n",
        "train_data = train_data.dropna(how='any') # Null 값 제거\r\n",
        "print('전처리 후 학습용 샘플의 개수 :',len(train_data))\r\n",
        "######### 수정 금지 ###########"
      ],
      "execution_count": 5,
      "outputs": [
        {
          "output_type": "stream",
          "text": [
            "전처리 후 학습용 샘플의 개수 : 145791\n"
          ],
          "name": "stdout"
        }
      ]
    },
    {
      "cell_type": "code",
      "metadata": {
        "colab": {
          "base_uri": "https://localhost:8080/"
        },
        "id": "EPwFMUs3b-LH",
        "outputId": "bcd245cb-7e86-487c-ec16-092bb1c2a521"
      },
      "source": [
        "test_data.drop_duplicates(subset = ['document'], inplace=True) # document 열에서 중복인 내용이 있다면 중복 제거\r\n",
        "test_data['document'] = test_data['document'].str.replace(\"[^ㄱ-ㅎㅏ-ㅣ가-힣 ]\",\"\") # 정규 표현식 수행\r\n",
        "test_data['document'].replace('', np.nan, inplace=True) # 공백은 Null 값으로 변경\r\n",
        "test_data = test_data.dropna(how='any') # Null 값 제거\r\n",
        "print('전처리 후 평가용 샘플의 개수 :',len(test_data))"
      ],
      "execution_count": 6,
      "outputs": [
        {
          "output_type": "stream",
          "text": [
            "전처리 후 평가용 샘플의 개수 : 48995\n"
          ],
          "name": "stdout"
        }
      ]
    },
    {
      "cell_type": "markdown",
      "metadata": {
        "id": "2UivYX5ah6RG"
      },
      "source": [
        "# 데이터 토큰화\r\n",
        "\r\n",
        "1. 형태소 분석기(okt)를 통해 어절을 형태소로 분리한 다음 불필요한 형태소를 제거합니다."
      ]
    },
    {
      "cell_type": "code",
      "metadata": {
        "colab": {
          "base_uri": "https://localhost:8080/"
        },
        "id": "u2pQKbhybm9a",
        "outputId": "cf9a1386-9b28-489a-8d3e-0f45352e01c2"
      },
      "source": [
        "######### 수정 금지 ###########\r\n",
        "okt = Okt()\r\n",
        "stopwords = ['의','가','이','은','들','는','좀','잘','걍','과','도','를','으로','자','에','와','한','하다']\r\n",
        "\r\n",
        "X_train = []\r\n",
        "for sentence in train_data['document']:\r\n",
        "    temp_X = []\r\n",
        "    temp_X = okt.morphs(sentence, stem=True) # 토큰화\r\n",
        "    temp_X = [word for word in temp_X if not word in stopwords] # 불용어 제거\r\n",
        "    X_train.append(temp_X)\r\n",
        "print(X_train[:3])\r\n",
        "######### 수정 금지 ###########"
      ],
      "execution_count": 7,
      "outputs": [
        {
          "output_type": "stream",
          "text": [
            "[['아', '더빙', '진짜', '짜증나다', '목소리'], ['흠', '포스터', '보고', '초딩', '영화', '줄', '오버', '연기', '조차', '가볍다', '않다'], ['너', '무재', '밓었', '다그', '래서', '보다', '추천', '다']]\n"
          ],
          "name": "stdout"
        }
      ]
    },
    {
      "cell_type": "code",
      "metadata": {
        "colab": {
          "base_uri": "https://localhost:8080/"
        },
        "id": "a_6av7UScYd6",
        "outputId": "9e4ab0fe-32f7-4163-a25d-56f00fc3e782"
      },
      "source": [
        "######### 수정 금지 ###########\r\n",
        "X_test = []\r\n",
        "for sentence in test_data['document']:\r\n",
        "    temp_X = []\r\n",
        "    temp_X = okt.morphs(sentence, stem=True) # 토큰화\r\n",
        "    temp_X = [word for word in temp_X if not word in stopwords] # 불용어 제거\r\n",
        "    X_test.append(temp_X)\r\n",
        "print(X_test[:3])    \r\n",
        "######### 수정 금지 ###########"
      ],
      "execution_count": 8,
      "outputs": [
        {
          "output_type": "stream",
          "text": [
            "[['굳다', 'ㅋ'], ['뭐', '야', '평점', '나쁘다', '않다', '점', '짜다', '리', '더', '더욱', '아니다'], ['지루하다', '않다', '완전', '막장', '임', '돈', '주다', '보기', '에는']]\n"
          ],
          "name": "stdout"
        }
      ]
    },
    {
      "cell_type": "markdown",
      "metadata": {
        "id": "UBCgqOSTiPOA"
      },
      "source": [
        "# 데이터 인코딩\r\n",
        "\r\n",
        "1. 형태소로 이루어진 데이터를 정수로 인코딩합니다.\r\n",
        "2. 빈도가 낮은 단어는 샘플에서 삭제할 수도 있습니다."
      ]
    },
    {
      "cell_type": "code",
      "metadata": {
        "id": "tnpnkGGdcsxJ"
      },
      "source": [
        "tokenizer = Tokenizer()\r\n",
        "tokenizer.fit_on_texts(X_train)"
      ],
      "execution_count": 9,
      "outputs": []
    },
    {
      "cell_type": "code",
      "metadata": {
        "colab": {
          "base_uri": "https://localhost:8080/"
        },
        "id": "ychAfviocd_J",
        "outputId": "082f9b2b-30d6-4d00-816e-bd03930cd1b7"
      },
      "source": [
        "### threshold= 2 -> 3 바꿈\r\n",
        "threshold = 3\r\n",
        "total_cnt = len(tokenizer.word_index) # 단어의 수\r\n",
        "rare_cnt = 0 # 등장 빈도수가 threshold보다 작은 단어의 개수를 카운트\r\n",
        "total_freq = 0 # 훈련 데이터의 전체 단어 빈도수 총 합\r\n",
        "rare_freq = 0 # 등장 빈도수가 threshold보다 작은 단어의 등장 빈도수의 총 합\r\n",
        "\r\n",
        "# 단어와 빈도수의 쌍(pair)을 key와 value로 받는다.\r\n",
        "for key, value in tokenizer.word_counts.items():\r\n",
        "    total_freq = total_freq + value\r\n",
        "\r\n",
        "    # 단어의 등장 빈도수가 threshold보다 작으면\r\n",
        "    if(value < threshold):\r\n",
        "        rare_cnt = rare_cnt + 1\r\n",
        "        rare_freq = rare_freq + value\r\n",
        "\r\n",
        "print('단어 집합(vocabulary)의 크기 :',total_cnt)\r\n",
        "print('등장 빈도가 %s번 이하인 희귀 단어의 수: %s'%(threshold - 1, rare_cnt))\r\n",
        "print(\"단어 집합에서 희귀 단어의 비율:\", (rare_cnt / total_cnt)*100)\r\n",
        "print(\"전체 등장 빈도에서 희귀 단어 등장 빈도 비율:\", (rare_freq / total_freq)*100)"
      ],
      "execution_count": 10,
      "outputs": [
        {
          "output_type": "stream",
          "text": [
            "단어 집합(vocabulary)의 크기 : 43752\n",
            "등장 빈도가 2번 이하인 희귀 단어의 수: 24337\n",
            "단어 집합에서 희귀 단어의 비율: 55.62488571950996\n",
            "전체 등장 빈도에서 희귀 단어 등장 빈도 비율: 1.8715872104872904\n"
          ],
          "name": "stdout"
        }
      ]
    },
    {
      "cell_type": "code",
      "metadata": {
        "colab": {
          "base_uri": "https://localhost:8080/"
        },
        "id": "3ci23Hxjcplz",
        "outputId": "7f6f0ae1-5590-4c9e-bbcf-2b1752255620"
      },
      "source": [
        "# 전체 단어 개수 중 빈도수 2이하인 단어 개수는 제거.\r\n",
        "# 0번 패딩 토큰과 1번 OOV 토큰을 고려하여 +2\r\n",
        "vocab_size = total_cnt - rare_cnt + 2\r\n",
        "print('단어 집합의 크기 :',vocab_size)"
      ],
      "execution_count": 11,
      "outputs": [
        {
          "output_type": "stream",
          "text": [
            "단어 집합의 크기 : 19417\n"
          ],
          "name": "stdout"
        }
      ]
    },
    {
      "cell_type": "code",
      "metadata": {
        "id": "gHlaC5WPc1Wi"
      },
      "source": [
        "tokenizer = Tokenizer(vocab_size, oov_token = 'OOV') \r\n",
        "tokenizer.fit_on_texts(X_train)\r\n",
        "X_train = tokenizer.texts_to_sequences(X_train)\r\n",
        "X_test = tokenizer.texts_to_sequences(X_test)"
      ],
      "execution_count": 12,
      "outputs": []
    },
    {
      "cell_type": "code",
      "metadata": {
        "id": "uW3AO3Rwc3B6"
      },
      "source": [
        "y_train = np.array(train_data['label'])\r\n",
        "y_test = np.array(test_data['label'])"
      ],
      "execution_count": 13,
      "outputs": []
    },
    {
      "cell_type": "code",
      "metadata": {
        "colab": {
          "base_uri": "https://localhost:8080/"
        },
        "id": "Uu9f8PBac5eZ",
        "outputId": "26b29d0c-d9d4-4b34-99cb-bd9ce57abf73"
      },
      "source": [
        "drop_train = [index for index, sentence in enumerate(X_train) if len(sentence) < 1]\r\n",
        "# 빈 샘플들을 제거\r\n",
        "X_train = np.delete(X_train, drop_train, axis=0)\r\n",
        "y_train = np.delete(y_train, drop_train, axis=0)\r\n",
        "print(len(X_train))\r\n",
        "print(len(y_train))"
      ],
      "execution_count": 14,
      "outputs": [
        {
          "output_type": "stream",
          "text": [
            "145380\n",
            "145380\n"
          ],
          "name": "stdout"
        },
        {
          "output_type": "stream",
          "text": [
            "/usr/local/lib/python3.6/dist-packages/numpy/core/_asarray.py:83: VisibleDeprecationWarning: Creating an ndarray from ragged nested sequences (which is a list-or-tuple of lists-or-tuples-or ndarrays with different lengths or shapes) is deprecated. If you meant to do this, you must specify 'dtype=object' when creating the ndarray\n",
            "  return array(a, dtype, copy=False, order=order)\n"
          ],
          "name": "stderr"
        }
      ]
    },
    {
      "cell_type": "code",
      "metadata": {
        "colab": {
          "base_uri": "https://localhost:8080/",
          "height": 316
        },
        "id": "99U7O6Wgc-PK",
        "outputId": "de5a51ee-7ba8-47e6-cda0-58332d178c40"
      },
      "source": [
        "print('리뷰의 최대 길이 :',max(len(l) for l in X_train))\r\n",
        "print('리뷰의 평균 길이 :',sum(map(len, X_train))/len(X_train))\r\n",
        "plt.hist([len(s) for s in X_train], bins=50)\r\n",
        "plt.xlabel('length of samples')\r\n",
        "plt.ylabel('number of samples')\r\n",
        "plt.show()"
      ],
      "execution_count": 15,
      "outputs": [
        {
          "output_type": "stream",
          "text": [
            "리뷰의 최대 길이 : 72\n",
            "리뷰의 평균 길이 : 11.002187371027652\n"
          ],
          "name": "stdout"
        },
        {
          "output_type": "display_data",
          "data": {
            "image/png": "[encoded data removed]",
            "text/plain": [
              "<Figure size 432x288 with 1 Axes>"
            ]
          },
          "metadata": {
            "tags": [],
            "needs_background": "light"
          }
        }
      ]
    },
    {
      "cell_type": "code",
      "metadata": {
        "colab": {
          "base_uri": "https://localhost:8080/"
        },
        "id": "O7FyusdPdAmi",
        "outputId": "1b7f92da-06cd-4dfc-c453-9f40fce7210c"
      },
      "source": [
        "def below_threshold_len(max_len, nested_list):\r\n",
        "  cnt = 0\r\n",
        "  for s in nested_list:\r\n",
        "    if(len(s) <= max_len):\r\n",
        "        cnt = cnt + 1\r\n",
        "  print('전체 샘플 중 길이가 %s 이하인 샘플의 비율: %s'%(max_len, (cnt / len(nested_list))*100))\r\n",
        "\r\n",
        "### 샘플 최대 길이 30으로 변경\r\n",
        "max_len = 30\r\n",
        "below_threshold_len(max_len, X_train)"
      ],
      "execution_count": 16,
      "outputs": [
        {
          "output_type": "stream",
          "text": [
            "전체 샘플 중 길이가 30 이하인 샘플의 비율: 94.0830925849498\n"
          ],
          "name": "stdout"
        }
      ]
    },
    {
      "cell_type": "code",
      "metadata": {
        "id": "05hlKXsgdMPD"
      },
      "source": [
        "X_train = pad_sequences(X_train, maxlen = max_len)\r\n",
        "X_test = pad_sequences(X_test, maxlen = max_len)"
      ],
      "execution_count": 17,
      "outputs": []
    },
    {
      "cell_type": "code",
      "metadata": {
        "id": "AKZU46fedSz6"
      },
      "source": [
        "#Embedding, LSTM, load_model, EarlyStopping, ModelCheckpoint 추가\r\n",
        "\r\n",
        "from tensorflow.keras.layers import Embedding, Dense, LSTM\r\n",
        "from tensorflow.keras.models import Sequential\r\n",
        "from tensorflow.keras.models import load_model\r\n",
        "from tensorflow.keras.callbacks import EarlyStopping, ModelCheckpoint"
      ],
      "execution_count": 18,
      "outputs": []
    },
    {
      "cell_type": "code",
      "metadata": {
        "id": "-yEYdYRVdX1x"
      },
      "source": [
        "# 단어 임베딩 해주기, 한번에 임베딩할 단어 수 100개, rnn모델인 LSTM으로 수정\r\n",
        "model = Sequential()\r\n",
        "model.add(Embedding(vocab_size, 100))\r\n",
        "model.add(LSTM(128))\r\n",
        "model.add(Dense(1, activation='sigmoid'))"
      ],
      "execution_count": 19,
      "outputs": []
    },
    {
      "cell_type": "code",
      "metadata": {
        "colab": {
          "base_uri": "https://localhost:8080/"
        },
        "id": "HXh54tv6wPjZ",
        "outputId": "cc9eb998-a3d3-4630-d735-409172c60963"
      },
      "source": [
        "model.summary()"
      ],
      "execution_count": 20,
      "outputs": [
        {
          "output_type": "stream",
          "text": [
            "Model: \"sequential\"\n",
            "_________________________________________________________________\n",
            "Layer (type)                 Output Shape              Param #   \n",
            "=================================================================\n",
            "embedding (Embedding)        (None, None, 100)         1941700   \n",
            "_________________________________________________________________\n",
            "lstm (LSTM)                  (None, 128)               117248    \n",
            "_________________________________________________________________\n",
            "dense (Dense)                (None, 1)                 129       \n",
            "=================================================================\n",
            "Total params: 2,059,077\n",
            "Trainable params: 2,059,077\n",
            "Non-trainable params: 0\n",
            "_________________________________________________________________\n"
          ],
          "name": "stdout"
        }
      ]
    },
    {
      "cell_type": "code",
      "metadata": {
        "id": "FA3QTf8-0bjg"
      },
      "source": [
        "### 학습이 더이상 되지 않는 순간을 대비해 모델을 빨리 멈추는 얼리 스타핑 추가\r\n",
        "es = EarlyStopping()\r\n",
        "\r\n",
        "### 처음부터 모델을 저장하는데 괜찮은 모델이 생성되었을때만 갱신\r\n",
        "mc = ModelCheckpoint('best_model.h5',\r\n",
        "                     monitor='val_acc',\r\n",
        "                     mode='max', verbose=1,\r\n",
        "                     save_best_only=True)"
      ],
      "execution_count": 21,
      "outputs": []
    },
    {
      "cell_type": "code",
      "metadata": {
        "id": "3IYXrTfJd-R9",
        "colab": {
          "base_uri": "https://localhost:8080/"
        },
        "outputId": "56a05dbb-dbd7-4971-fc6b-a5678d13f01b"
      },
      "source": [
        "model.compile(optimizer='rmsprop',\r\n",
        "              loss='binary_crossentropy',\r\n",
        "              metrics=['acc'])\r\n",
        "\r\n",
        "history = model.fit(X_train, y_train,\r\n",
        "                    epochs=15,\r\n",
        "                    callbacks=[es, mc],\r\n",
        "                    batch_size=60,\r\n",
        "                    validation_split=0.2)"
      ],
      "execution_count": 22,
      "outputs": [
        {
          "output_type": "stream",
          "text": [
            "Epoch 1/15\n",
            "1939/1939 [==============================] - 26s 11ms/step - loss: 0.4387 - acc: 0.7908 - val_loss: 0.3526 - val_acc: 0.8457\n",
            "\n",
            "Epoch 00001: val_acc improved from -inf to 0.84568, saving model to best_model.h5\n",
            "Epoch 2/15\n",
            "1939/1939 [==============================] - 20s 10ms/step - loss: 0.3289 - acc: 0.8564 - val_loss: 0.3350 - val_acc: 0.8541\n",
            "\n",
            "Epoch 00002: val_acc improved from 0.84568 to 0.85414, saving model to best_model.h5\n",
            "Epoch 3/15\n",
            "1939/1939 [==============================] - 19s 10ms/step - loss: 0.3017 - acc: 0.8725 - val_loss: 0.3287 - val_acc: 0.8593\n",
            "\n",
            "Epoch 00003: val_acc improved from 0.85414 to 0.85933, saving model to best_model.h5\n",
            "Epoch 4/15\n",
            "1939/1939 [==============================] - 19s 10ms/step - loss: 0.2833 - acc: 0.8826 - val_loss: 0.3297 - val_acc: 0.8618\n",
            "\n",
            "Epoch 00004: val_acc improved from 0.85933 to 0.86181, saving model to best_model.h5\n"
          ],
          "name": "stdout"
        }
      ]
    },
    {
      "cell_type": "code",
      "metadata": {
        "colab": {
          "base_uri": "https://localhost:8080/"
        },
        "id": "Q2bz5q3e00Yv",
        "outputId": "8d4b18eb-454a-4d0e-c844-b14f0a548bb8"
      },
      "source": [
        "### 저장된 모델 중 베스트 모델을 불러와 평가\r\n",
        "loaded_model = load_model('best_model.h5')\r\n",
        "print(\"\\n 테스트 정확도: %.4f\" % (loaded_model.evaluate(X_test, y_test)[1]))"
      ],
      "execution_count": 23,
      "outputs": [
        {
          "output_type": "stream",
          "text": [
            "1532/1532 [==============================] - 5s 3ms/step - loss: 0.3388 - acc: 0.8545\n",
            "\n",
            " 테스트 정확도: 0.8545\n"
          ],
          "name": "stdout"
        }
      ]
    },
    {
      "cell_type": "code",
      "metadata": {
        "colab": {
          "base_uri": "https://localhost:8080/",
          "height": 545
        },
        "id": "CJJjm1hi03dH",
        "outputId": "aff554ca-22fd-4610-9aa2-357c0816d6cc"
      },
      "source": [
        "### 학습과정에 대해 그래프로 확인\r\n",
        "acc = history.history['acc']\r\n",
        "val_acc = history.history['val_acc']\r\n",
        "loss = history.history['loss']\r\n",
        "val_loss = history.history['val_loss']\r\n",
        "\r\n",
        "epochs = range(1,len(acc)+1)\r\n",
        "\r\n",
        "plt.plot(epochs,acc,'b',label='Training acc')\r\n",
        "plt.plot(epochs,val_acc,'r',label='Validation acc')\r\n",
        "plt.title('Training and validation accuracy')\r\n",
        "plt.legend()\r\n",
        "plt.figure()\r\n",
        "\r\n",
        "plt.plot(epochs,loss,'b',label='Training loss')\r\n",
        "plt.plot(epochs,val_loss,'r',label='Validation loss')\r\n",
        "plt.title('Training and validation loss')\r\n",
        "plt.legend()\r\n",
        "plt.show()"
      ],
      "execution_count": 24,
      "outputs": [
        {
          "output_type": "display_data",
          "data": {
            "image/png": "[encoded data removed]",
            "text/plain": [
              "<Figure size 432x288 with 1 Axes>"
            ]
          },
          "metadata": {
            "tags": [],
            "needs_background": "light"
          }
        },
        {
          "output_type": "display_data",
          "data": {
            "image/png": "[encoded data removed]",
            "text/plain": [
              "<Figure size 432x288 with 1 Axes>"
            ]
          },
          "metadata": {
            "tags": [],
            "needs_background": "light"
          }
        }
      ]
    },
    {
      "cell_type": "code",
      "metadata": {
        "id": "UforSjN_7d7R"
      },
      "source": [
        ""
      ],
      "execution_count": 24,
      "outputs": []
    }
  ]
}